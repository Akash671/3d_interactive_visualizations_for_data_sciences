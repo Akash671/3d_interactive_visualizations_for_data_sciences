{
  "nbformat": 4,
  "nbformat_minor": 0,
  "metadata": {
    "colab": {
      "name": "Chatbot.ipynb",
      "provenance": [],
      "collapsed_sections": [],
      "authorship_tag": "ABX9TyPOxyXK1sAvg4gXX+/88JPx",
      "include_colab_link": true
    },
    "kernelspec": {
      "name": "python3",
      "display_name": "Python 3"
    },
    "accelerator": "GPU"
  },
  "cells": [
    {
      "cell_type": "markdown",
      "metadata": {
        "id": "view-in-github",
        "colab_type": "text"
      },
      "source": [
        "<a href=\"https://colab.research.google.com/github/Akash671/3d_interactive_visualizations_for_data_sciences/blob/master/Chatbot.ipynb\" target=\"_parent\"><img src=\"https://colab.research.google.com/assets/colab-badge.svg\" alt=\"Open In Colab\"/></a>"
      ]
    },
    {
      "cell_type": "code",
      "metadata": {
        "id": "4eSG-NaKDFYm",
        "outputId": "c063223e-4f02-4103-fbcc-da480ff08b8a",
        "colab": {
          "base_uri": "https://localhost:8080/",
          "height": 164
        }
      },
      "source": [
        "!pip install chatterbot\n",
        "!pip install chatterbot_corpus"
      ],
      "execution_count": 7,
      "outputs": [
        {
          "output_type": "stream",
          "text": [
            "Requirement already satisfied: chatterbot in /usr/local/lib/python3.6/dist-packages (1.0.8)\n",
            "Requirement already satisfied: mathparse<0.2,>=0.1 in /usr/local/lib/python3.6/dist-packages (from chatterbot) (0.1.2)\n",
            "Requirement already satisfied: pytz in /usr/local/lib/python3.6/dist-packages (from chatterbot) (2018.9)\n",
            "Requirement already satisfied: python-dateutil<2.9,>=2.8 in /usr/local/lib/python3.6/dist-packages (from chatterbot) (2.8.1)\n",
            "Requirement already satisfied: sqlalchemy<1.4,>=1.3 in /usr/local/lib/python3.6/dist-packages (from chatterbot) (1.3.19)\n",
            "Requirement already satisfied: six>=1.5 in /usr/local/lib/python3.6/dist-packages (from python-dateutil<2.9,>=2.8->chatterbot) (1.15.0)\n",
            "Requirement already satisfied: chatterbot_corpus in /usr/local/lib/python3.6/dist-packages (1.2.0)\n",
            "Requirement already satisfied: PyYAML<4.0,>=3.12 in /usr/local/lib/python3.6/dist-packages (from chatterbot_corpus) (3.13)\n"
          ],
          "name": "stdout"
        }
      ]
    },
    {
      "cell_type": "code",
      "metadata": {
        "id": "pWAojvuiDLFx",
        "outputId": "51c4e678-d029-45fd-c2c3-bd7e702cf0f7",
        "colab": {
          "base_uri": "https://localhost:8080/",
          "height": 35
        }
      },
      "source": [
        "!python3 classification_sample.py -h"
      ],
      "execution_count": 4,
      "outputs": [
        {
          "output_type": "stream",
          "text": [
            "python3: can't open file 'classification_sample.py': [Errno 2] No such file or directory\n"
          ],
          "name": "stdout"
        }
      ]
    },
    {
      "cell_type": "code",
      "metadata": {
        "id": "2dOE8C_OSCDd",
        "outputId": "eb81eec1-8c33-4e4b-b747-c03188742903",
        "colab": {
          "base_uri": "https://localhost:8080/",
          "height": 458
        }
      },
      "source": [
        "pip install git+git://github.com/gunthercox/ChatterBot.git@master"
      ],
      "execution_count": 8,
      "outputs": [
        {
          "output_type": "stream",
          "text": [
            "Collecting git+git://github.com/gunthercox/ChatterBot.git@master\n",
            "  Cloning git://github.com/gunthercox/ChatterBot.git (to revision master) to /tmp/pip-req-build-od0y964g\n",
            "  Running command git clone -q git://github.com/gunthercox/ChatterBot.git /tmp/pip-req-build-od0y964g\n",
            "Requirement already satisfied: mathparse<0.2,>=0.1 in /usr/local/lib/python3.6/dist-packages (from ChatterBot==1.1.0a7) (0.1.2)\n",
            "Requirement already satisfied: python-dateutil<2.9,>=2.8 in /usr/local/lib/python3.6/dist-packages (from ChatterBot==1.1.0a7) (2.8.1)\n",
            "Requirement already satisfied: sqlalchemy<1.4,>=1.3 in /usr/local/lib/python3.6/dist-packages (from ChatterBot==1.1.0a7) (1.3.19)\n",
            "Requirement already satisfied: pytz in /usr/local/lib/python3.6/dist-packages (from ChatterBot==1.1.0a7) (2018.9)\n",
            "Requirement already satisfied: six>=1.5 in /usr/local/lib/python3.6/dist-packages (from python-dateutil<2.9,>=2.8->ChatterBot==1.1.0a7) (1.15.0)\n",
            "Building wheels for collected packages: ChatterBot\n",
            "  Building wheel for ChatterBot (setup.py) ... \u001b[?25l\u001b[?25hdone\n",
            "  Created wheel for ChatterBot: filename=ChatterBot-1.1.0a7-py2.py3-none-any.whl size=63713 sha256=04f48d1375831e29b744d365e8198ccd6f6492ae973e472dca8fb79d5f1001b9\n",
            "  Stored in directory: /tmp/pip-ephem-wheel-cache-f1yymmgu/wheels/00/39/c3/933c3a8c9a9a682fb5512d747c0d05e5088bcbcaaa03b34787\n",
            "Successfully built ChatterBot\n",
            "Installing collected packages: ChatterBot\n",
            "  Found existing installation: ChatterBot 1.0.8\n",
            "    Uninstalling ChatterBot-1.0.8:\n",
            "      Successfully uninstalled ChatterBot-1.0.8\n",
            "Successfully installed ChatterBot-1.1.0a7\n"
          ],
          "name": "stdout"
        },
        {
          "output_type": "display_data",
          "data": {
            "application/vnd.colab-display-data+json": {
              "pip_warning": {
                "packages": [
                  "chatterbot"
                ]
              }
            }
          },
          "metadata": {
            "tags": []
          }
        }
      ]
    },
    {
      "cell_type": "code",
      "metadata": {
        "id": "h9U_PkMaSPlm",
        "outputId": "91324450-e1ae-4c2a-89ba-6163189d68dc",
        "colab": {
          "base_uri": "https://localhost:8080/",
          "height": 209
        }
      },
      "source": [
        "from chatterbot.trainers import ChatterBotCorpusTrainer\n",
        "corpus_trainer = ChatterBotCorpusTrainer(my_bot)\n",
        "corpus_trainer.train('chatterbot.corpus.english')"
      ],
      "execution_count": 5,
      "outputs": [
        {
          "output_type": "error",
          "ename": "NameError",
          "evalue": "ignored",
          "traceback": [
            "\u001b[0;31m---------------------------------------------------------------------------\u001b[0m",
            "\u001b[0;31mNameError\u001b[0m                                 Traceback (most recent call last)",
            "\u001b[0;32m<ipython-input-5-5c2f7923b593>\u001b[0m in \u001b[0;36m<module>\u001b[0;34m()\u001b[0m\n\u001b[1;32m      1\u001b[0m \u001b[0;32mfrom\u001b[0m \u001b[0mchatterbot\u001b[0m\u001b[0;34m.\u001b[0m\u001b[0mtrainers\u001b[0m \u001b[0;32mimport\u001b[0m \u001b[0mChatterBotCorpusTrainer\u001b[0m\u001b[0;34m\u001b[0m\u001b[0;34m\u001b[0m\u001b[0m\n\u001b[0;32m----> 2\u001b[0;31m \u001b[0mcorpus_trainer\u001b[0m \u001b[0;34m=\u001b[0m \u001b[0mChatterBotCorpusTrainer\u001b[0m\u001b[0;34m(\u001b[0m\u001b[0mmy_bot\u001b[0m\u001b[0;34m)\u001b[0m\u001b[0;34m\u001b[0m\u001b[0;34m\u001b[0m\u001b[0m\n\u001b[0m\u001b[1;32m      3\u001b[0m \u001b[0mcorpus_trainer\u001b[0m\u001b[0;34m.\u001b[0m\u001b[0mtrain\u001b[0m\u001b[0;34m(\u001b[0m\u001b[0;34m'chatterbot.corpus.english'\u001b[0m\u001b[0;34m)\u001b[0m\u001b[0;34m\u001b[0m\u001b[0;34m\u001b[0m\u001b[0m\n",
            "\u001b[0;31mNameError\u001b[0m: name 'my_bot' is not defined"
          ]
        }
      ]
    },
    {
      "cell_type": "code",
      "metadata": {
        "id": "E4vqQ4ByS7hE",
        "outputId": "a821ea86-0084-4e47-9517-ce422a236083",
        "colab": {
          "base_uri": "https://localhost:8080/",
          "height": 191
        }
      },
      "source": [
        "my_bot = ChatBot(name='PyBot', read_only=True,\n",
        "                 logic_adapters=['chatterbot.logic.MathematicalEvaluation','chatterbot.logic.BestMatch'])"
      ],
      "execution_count": 9,
      "outputs": [
        {
          "output_type": "error",
          "ename": "NameError",
          "evalue": "ignored",
          "traceback": [
            "\u001b[0;31m---------------------------------------------------------------------------\u001b[0m",
            "\u001b[0;31mNameError\u001b[0m                                 Traceback (most recent call last)",
            "\u001b[0;32m<ipython-input-9-b9887a160568>\u001b[0m in \u001b[0;36m<module>\u001b[0;34m()\u001b[0m\n\u001b[0;32m----> 1\u001b[0;31m my_bot = ChatBot(name='PyBot', read_only=True,\n\u001b[0m\u001b[1;32m      2\u001b[0m                  logic_adapters=['chatterbot.logic.MathematicalEvaluation','chatterbot.logic.BestMatch'])\n",
            "\u001b[0;31mNameError\u001b[0m: name 'ChatBot' is not defined"
          ]
        }
      ]
    },
    {
      "cell_type": "code",
      "metadata": {
        "id": "HPtf7IiNTGF5"
      },
      "source": [
        ""
      ],
      "execution_count": null,
      "outputs": []
    },
    {
      "cell_type": "code",
      "metadata": {
        "id": "wBmOFH1io2BI"
      },
      "source": [
        " #Importing modules\n",
        "from chatterbot import ChatBot\n",
        "from chatterbot.trainers import ListTrainer\n",
        "from chatterbot.trainers import ChatterBotCorpusTrainer"
      ],
      "execution_count": 10,
      "outputs": []
    },
    {
      "cell_type": "code",
      "metadata": {
        "id": "3EAraCdTITd5"
      },
      "source": [
        " BankBot = ChatBot(name = 'BankBot',\n",
        "                  read_only = False,                  \n",
        "                  logic_adapters = [\"chatterbot.logic.BestMatch\"],                 \n",
        "                  storage_adapter = \"chatterbot.storage.SQLStorageAdapter\")"
      ],
      "execution_count": 11,
      "outputs": []
    },
    {
      "cell_type": "code",
      "metadata": {
        "id": "jt14Lc2GCEJL"
      },
      "source": [
        "greet_conversation = [\"Hello\",\"Hi there!\",\"What is your name?\",\"my name is Google Assistant.\",\"What is my name?\",\"your name is Akash Kumar.\",\"You're great.\",\"😊\"]"
      ],
      "execution_count": 12,
      "outputs": []
    },
    {
      "cell_type": "code",
      "metadata": {
        "id": "KhPTLDvKDJPN"
      },
      "source": [
        "open_timings_conversation =[\"What time does the Bank open?\",\"The Bank opens at 9AM\",]"
      ],
      "execution_count": 13,
      "outputs": []
    },
    {
      "cell_type": "markdown",
      "metadata": {
        "id": "1JxfnktqjpbD"
      },
      "source": [
        ""
      ]
    },
    {
      "cell_type": "code",
      "metadata": {
        "id": "nLWvQVFlDSXT"
      },
      "source": [
        "close_timings_conversation =[\"What time does the Bank close?\",\"The Bank closes at 5PM\",]"
      ],
      "execution_count": 14,
      "outputs": []
    },
    {
      "cell_type": "code",
      "metadata": {
        "id": "6tJohutxiOJt"
      },
      "source": [
        "My_info=['What is your name?','My name Google Assistant?','My name is Akash Kumar','ok i remember']"
      ],
      "execution_count": 15,
      "outputs": []
    },
    {
      "cell_type": "code",
      "metadata": {
        "id": "pdlU8N6zIJOA"
      },
      "source": [
        " #Initializing Trainer Object     \n",
        "trainer = ListTrainer (BankBot)"
      ],
      "execution_count": 16,
      "outputs": []
    },
    {
      "cell_type": "code",
      "metadata": {
        "id": "RJ_FriZ6Idpx",
        "outputId": "ea0f0a27-3a5d-4c91-99e9-70d6d0b78374",
        "colab": {
          "base_uri": "https://localhost:8080/",
          "height": 90
        }
      },
      "source": [
        "#Training BankBot\n",
        "trainer.train(greet_conversation)\n",
        "trainer.train(open_timings_conversation)\n",
        "trainer.train(close_timings_conversation)\n",
        "trainer.train(My_info)"
      ],
      "execution_count": 17,
      "outputs": [
        {
          "output_type": "stream",
          "text": [
            "List Trainer: [####################] 100%\n",
            "List Trainer: [####################] 100%\n",
            "List Trainer: [####################] 100%\n",
            "List Trainer: [####################] 100%\n"
          ],
          "name": "stdout"
        }
      ]
    },
    {
      "cell_type": "code",
      "metadata": {
        "id": "qf9cLrg1IijI",
        "outputId": "c9244f6c-298e-499c-e486-98038eb6e105",
        "colab": {
          "base_uri": "https://localhost:8080/",
          "height": 90
        }
      },
      "source": [
        " \n",
        "print(\"........... Welcome AI Assistance............ \")\n",
        "while (True):    \n",
        "   user_input = input()\n",
        "   if (user_input == 'quit'):\n",
        "     print(\"Bye\")\n",
        "     print(\"👍👍👍\")\n",
        "     break\n",
        "   if (user_input=='Quit'):\n",
        "     print(\"Bye\")\n",
        "     print(\"🙂\")\n",
        "     break   \n",
        "   response = BankBot.get_response(user_input) \n",
        "   print (response)"
      ],
      "execution_count": 23,
      "outputs": [
        {
          "output_type": "stream",
          "text": [
            "........... Welcome AI Assistance............ \n",
            "Quit\n",
            "Bye\n",
            "🙂\n"
          ],
          "name": "stdout"
        }
      ]
    },
    {
      "cell_type": "code",
      "metadata": {
        "id": "u7XNvBtNhMUu"
      },
      "source": [
        "# Importing modules\n",
        "import re\n",
        "from nltk.corpus import wordnet"
      ],
      "execution_count": null,
      "outputs": []
    },
    {
      "cell_type": "code",
      "metadata": {
        "id": "DHudx3zcnc8s",
        "outputId": "c216702b-b89a-411c-bc4a-7cf309571e14",
        "colab": {
          "base_uri": "https://localhost:8080/",
          "height": 88
        }
      },
      "source": [
        "import nltk\n",
        "nltk.download('wordnet')"
      ],
      "execution_count": null,
      "outputs": [
        {
          "output_type": "stream",
          "text": [
            "[nltk_data] Downloading package wordnet to /root/nltk_data...\n",
            "[nltk_data]   Unzipping corpora/wordnet.zip.\n"
          ],
          "name": "stdout"
        },
        {
          "output_type": "execute_result",
          "data": {
            "text/plain": [
              "True"
            ]
          },
          "metadata": {
            "tags": []
          },
          "execution_count": 13
        }
      ]
    },
    {
      "cell_type": "code",
      "metadata": {
        "id": "3gxOMhAWnc3u"
      },
      "source": [
        ""
      ],
      "execution_count": null,
      "outputs": []
    },
    {
      "cell_type": "code",
      "metadata": {
        "id": "b_ktYqz7mrvc",
        "outputId": "f5de98fa-b250-4d84-d329-3610f348c72c",
        "colab": {
          "base_uri": "https://localhost:8080/",
          "height": 54
        }
      },
      "source": [
        "# Building a list of Keywords\n",
        "list_words=['hello','timings']\n",
        "list_syn={}\n",
        "for word in list_words:\n",
        "    synonyms=[]for syn in wordnet.synsets(word):for lem in syn.lemmas():# Remove any special characters from synonym strings            lem_name = re.sub('[^a-zA-Z0-9 \\n\\.]', ' ', lem.name())            synonyms.append(lem_name)    list_syn[word]=set(synonyms)print (list_syn)"
      ],
      "execution_count": null,
      "outputs": [
        {
          "output_type": "stream",
          "text": [
            "{'hello': {'hi', 'howdy', 'how do you do', 'hullo', 'hello'}, 'timings': {'timing', 'time', 'clock'}}\n"
          ],
          "name": "stdout"
        }
      ]
    },
    {
      "cell_type": "code",
      "metadata": {
        "id": "oEhGEZtWm2Sk"
      },
      "source": [
        ""
      ],
      "execution_count": null,
      "outputs": []
    },
    {
      "cell_type": "code",
      "metadata": {
        "id": "nbbneBzcm2P_"
      },
      "source": [
        ""
      ],
      "execution_count": null,
      "outputs": []
    },
    {
      "cell_type": "code",
      "metadata": {
        "id": "PyjfdYhGm2MU"
      },
      "source": [
        ""
      ],
      "execution_count": null,
      "outputs": []
    },
    {
      "cell_type": "code",
      "metadata": {
        "id": "RFx3qIuim2IZ"
      },
      "source": [
        ""
      ],
      "execution_count": null,
      "outputs": []
    },
    {
      "cell_type": "code",
      "metadata": {
        "id": "-OF94XTWmw4h",
        "outputId": "44906c6a-0e02-4cdf-d8f7-ff5955bec59d",
        "colab": {
          "base_uri": "https://localhost:8080/",
          "height": 197
        }
      },
      "source": [
        "# Building dictionary of Intents & Keywords\n",
        "keywords={}\n",
        "keywords_dict={}\n",
        "# Defining a new key in the keywords dictionarykeywords['greet']=[]# Populating the values in the keywords dictionary with synonyms of keywords formatted with RegEx metacharacters for synonym in list(list_syn['hello']):    keywords['greet'].append('.*\\\\b'+synonym+'\\\\b.*')# Defining a new key in the keywords dictionarykeywords['timings']=[]# Populating the values in the keywords dictionary\n",
        " \n",
        " \n",
        " \n",
        " \n",
        " \n",
        " \n",
        " \n",
        " \n",
        " \n",
        " \n",
        " \n",
        " with synonyms of keywords formatted with RegEx metacharacters \n",
        "for synonym in list(list_syn['timings']):\n",
        "    keywords['timings'].append('.*\\\\b'+synonym+'\\\\b.*')\n",
        " \n",
        "for intent, keys in keywords.items():\n",
        "    \n",
        "    # Joining the values in the keywords dictionary with the OR (|) operator updating them in keywords_dict dictionary\n",
        "    keywords_dict[intent]=re.compile('|'.join(keys))\n",
        "print (keywords_dict)"
      ],
      "execution_count": null,
      "outputs": [
        {
          "output_type": "error",
          "ename": "IndentationError",
          "evalue": "ignored",
          "traceback": [
            "\u001b[0;36m  File \u001b[0;32m\"<ipython-input-15-889369c04e4a>\"\u001b[0;36m, line \u001b[0;32m16\u001b[0m\n\u001b[0;31m    with synonyms of keywords formatted with RegEx metacharacters\u001b[0m\n\u001b[0m    ^\u001b[0m\n\u001b[0;31mIndentationError\u001b[0m\u001b[0;31m:\u001b[0m unexpected indent\n"
          ]
        }
      ]
    },
    {
      "cell_type": "code",
      "metadata": {
        "id": "8eGuZiJinO0-"
      },
      "source": [
        "# Building a dictionary of responses\n",
        "responses={\n",
        "    'greet':'Hello! How can I help you?',\n",
        "    'timings':'We are open from 9AM to 5PM, Monday to Friday. We are closed on weekends and public holidays.',\n",
        "    'fallback':'I dont quite understand. Could you repeat that?',\n",
        "}"
      ],
      "execution_count": null,
      "outputs": []
    },
    {
      "cell_type": "code",
      "metadata": {
        "id": "hheXjkAMnPvu",
        "outputId": "bef3ef28-43d4-435a-9963-eda92ba1b775",
        "colab": {
          "base_uri": "https://localhost:8080/",
          "height": 219
        }
      },
      "source": [
        "print (\"Welcome to MyBank. How may I help you?\")\n",
        "\n",
        "# While loop to run the chatbot indefinetely\n",
        "while (True):  \n",
        "    \n",
        "    # Takes the user input and converts all characters to lowercase\n",
        "    user_input = input().lower()\n",
        "    \n",
        "    # Defining the Chatbot's exit condition\n",
        "    if user_input == 'quit': \n",
        "        print (\"Thank you for visiting.\")\n",
        "        break    \n",
        "    \n",
        "    matched_intent = None \n",
        "    \n",
        "    for intent,pattern in keywords_dict.items():\n",
        "        \n",
        "        # Using the regular expression search function to look for keywords in user input\n",
        "        if re.search(pattern, user_input): \n",
        "            \n",
        "            # if a keyword matches, select the corresponding intent from the keywords_dict dictionary\n",
        "            matched_intent=intent  \n",
        "    \n",
        "    # The fallback intent is selected by default\n",
        "    key='fallback' \n",
        "    if matched_intent in responses:\n",
        "        \n",
        "        # If a keyword matches, the fallback intent is replaced by the matched intent as the key for the responses dictionary\n",
        "        key = matched_intent \n",
        "    \n",
        "    # The chatbot prints the response that matches the selected intent\n",
        "    print (responses[key]) "
      ],
      "execution_count": null,
      "outputs": [
        {
          "output_type": "stream",
          "text": [
            "Welcome to MyBank. How may I help you?\n",
            "Hello\n",
            "Hello! How can I help you?\n",
            "yes.\n",
            "I dont quite understand. Could you repeat that?\n",
            "my name akash.\n",
            "I dont quite understand. Could you repeat that?\n",
            "timings\n",
            "I dont quite understand. Could you repeat that?\n",
            "quit\n",
            "Thank you for visiting.\n"
          ],
          "name": "stdout"
        }
      ]
    },
    {
      "cell_type": "code",
      "metadata": {
        "id": "gcIWWpz9B4qY",
        "outputId": "3b9d66f6-f4e9-4b93-8fe6-a079cd8ae8df",
        "colab": {
          "base_uri": "https://localhost:8080/",
          "height": 184
        }
      },
      "source": [
        "!pip install openvino-python"
      ],
      "execution_count": 1,
      "outputs": [
        {
          "output_type": "stream",
          "text": [
            "Collecting openvino-python\n",
            "\u001b[?25l  Downloading https://files.pythonhosted.org/packages/b7/c0/e55f6bf3af13c9cac6abf9619b7823011efd975c3e16d410ea5a9c029e58/openvino_python-2021.1-110-cp36-cp36m-manylinux1_x86_64.whl (23.4MB)\n",
            "\u001b[K     |████████████████████████████████| 23.4MB 1.3MB/s \n",
            "\u001b[?25hCollecting tbb>=2020.2.*\n",
            "\u001b[?25l  Downloading https://files.pythonhosted.org/packages/02/14/06afc5709c9c63e0b11ec269ad28d6af4795ad37a7188cde5146abf0c90e/tbb-2020.3.254-py2.py3-none-manylinux1_x86_64.whl (963kB)\n",
            "\u001b[K     |████████████████████████████████| 972kB 50.4MB/s \n",
            "\u001b[?25hInstalling collected packages: tbb, openvino-python\n",
            "Successfully installed openvino-python-2021.1 tbb-2020.3.254\n"
          ],
          "name": "stdout"
        }
      ]
    },
    {
      "cell_type": "code",
      "metadata": {
        "id": "3punGkEEB7O0"
      },
      "source": [
        ""
      ],
      "execution_count": null,
      "outputs": []
    }
  ]
}